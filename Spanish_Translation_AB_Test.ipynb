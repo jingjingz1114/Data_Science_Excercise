{
 "cells": [
  {
   "cell_type": "markdown",
   "id": "competent-fourth",
   "metadata": {},
   "source": [
    "# Challenge Description\n",
    "Company XYZ is a worldwide e-commerce site with localized versions of the site.\n",
    "\n",
    "A data scientist at XYZ noticed that Spain-based users have a much higher conversion rate than\n",
    "any other Spanish-speaking country. She therefore went and talked to the international team in\n",
    "charge of Spain And LatAm to see if they had any ideas about why that was happening.\n",
    "\n",
    "Spain and LatAm country manager suggested that one reason could be translation. All Spanish-speaking countries had the same translation of the site which was written by a Spaniard. They\n",
    "agreed to try a test where each country would have its one translation written by a local. That is,\n",
    "Argentinian users would see a translation written by an Argentinian, Mexican users by a Mexican\n",
    "and so on. Obviously, nothing would change for users from Spain.\n",
    "\n",
    "After they run the test however, they are really surprised cause the test is negative. I.e., it\n",
    "appears that the non-localized translation was doing better!\n",
    "\n",
    "You are asked to:\n",
    "- Confirm that the test is actually negative. That is, it appears that the old version of the \n",
    "site with just one translation across Spain and LatAm performs better\n",
    "- Explain why that might be happening. Are the localized translations really worse?\n",
    "- If you identified what was wrong, design an algorithm that would return FALSE if the\n",
    "same problem is happening in the future and TRUE if everything is good and the results\n",
    "can be trusted。"
   ]
  },
  {
   "cell_type": "code",
   "execution_count": 78,
   "id": "empirical-azerbaijan",
   "metadata": {},
   "outputs": [],
   "source": [
    "import numpy as np\n",
    "import pandas as pd\n",
    "from my_utils import *\n",
    "import matplotlib.pyplot as plt\n",
    "import seaborn as sns\n",
    "from scipy.stats import shapiro\n",
    "from pandas.api.types import is_numeric_dtype, is_categorical_dtype\n",
    "from numpy.random import seed\n",
    "\n",
    "pd.set_option('display.max_columns', None)\n",
    "pd.set_option('display.max_rows', None)\n",
    "import warnings\n",
    "warnings.filterwarnings('ignore')"
   ]
  },
  {
   "cell_type": "code",
   "execution_count": 79,
   "id": "liable-thumb",
   "metadata": {},
   "outputs": [
    {
     "name": "stdout",
     "output_type": "stream",
     "text": [
      "   user_id        date  source  device browser_language ads_channel  \\\n",
      "0   315281   12/3/2015  Direct     Web               ES         NaN   \n",
      "1   497851   12/4/2015     Ads     Web               ES      Google   \n",
      "2   848402   12/4/2015     Ads     Web               ES    Facebook   \n",
      "3   290051   12/3/2015     Ads  Mobile            Other    Facebook   \n",
      "4   548435  11/30/2015     Ads     Web               ES      Google   \n",
      "\n",
      "       browser  conversion  test  \n",
      "0           IE           1     0  \n",
      "1           IE           0     1  \n",
      "2       Chrome           0     0  \n",
      "3  Android_App           0     1  \n",
      "4      FireFox           0     1  \n",
      "\n",
      "\n",
      "   user_id sex  age    country\n",
      "0   765821   M   20     Mexico\n",
      "1   343561   F   27  Nicaragua\n",
      "2   118744   M   23   Colombia\n",
      "3   987753   F   27  Venezuela\n",
      "4   554597   F   20      Spain\n"
     ]
    }
   ],
   "source": [
    "#load in the datasets\n",
    "df_test = pd.read_csv('test_table.csv')\n",
    "df_user = pd.read_csv('user_table.csv')\n",
    "print(df_test.head())\n",
    "print('\\n')\n",
    "print(df_user.head())"
   ]
  },
  {
   "cell_type": "markdown",
   "id": "million-helena",
   "metadata": {},
   "source": [
    "### Data exploration"
   ]
  },
  {
   "cell_type": "code",
   "execution_count": 80,
   "id": "temporal-preserve",
   "metadata": {},
   "outputs": [
    {
     "data": {
      "text/plain": [
       "(453321, 452867)"
      ]
     },
     "execution_count": 80,
     "metadata": {},
     "output_type": "execute_result"
    }
   ],
   "source": [
    "# Check the number of unique users from both tables\n",
    "df_test.user_id.nunique(), df_user.user_id.nunique()"
   ]
  },
  {
   "cell_type": "code",
   "execution_count": 81,
   "id": "continent-steering",
   "metadata": {},
   "outputs": [
    {
     "data": {
      "text/html": [
       "<div>\n",
       "<style scoped>\n",
       "    .dataframe tbody tr th:only-of-type {\n",
       "        vertical-align: middle;\n",
       "    }\n",
       "\n",
       "    .dataframe tbody tr th {\n",
       "        vertical-align: top;\n",
       "    }\n",
       "\n",
       "    .dataframe thead th {\n",
       "        text-align: right;\n",
       "    }\n",
       "</style>\n",
       "<table border=\"1\" class=\"dataframe\">\n",
       "  <thead>\n",
       "    <tr style=\"text-align: right;\">\n",
       "      <th></th>\n",
       "      <th>user_id</th>\n",
       "      <th>date</th>\n",
       "      <th>source</th>\n",
       "      <th>device</th>\n",
       "      <th>browser_language</th>\n",
       "      <th>ads_channel</th>\n",
       "      <th>browser</th>\n",
       "      <th>conversion</th>\n",
       "      <th>test</th>\n",
       "      <th>sex</th>\n",
       "      <th>age</th>\n",
       "      <th>country</th>\n",
       "    </tr>\n",
       "  </thead>\n",
       "  <tbody>\n",
       "    <tr>\n",
       "      <th>0</th>\n",
       "      <td>315281</td>\n",
       "      <td>12/3/2015</td>\n",
       "      <td>Direct</td>\n",
       "      <td>Web</td>\n",
       "      <td>ES</td>\n",
       "      <td>NaN</td>\n",
       "      <td>IE</td>\n",
       "      <td>1</td>\n",
       "      <td>0</td>\n",
       "      <td>M</td>\n",
       "      <td>32</td>\n",
       "      <td>Spain</td>\n",
       "    </tr>\n",
       "    <tr>\n",
       "      <th>1</th>\n",
       "      <td>497851</td>\n",
       "      <td>12/4/2015</td>\n",
       "      <td>Ads</td>\n",
       "      <td>Web</td>\n",
       "      <td>ES</td>\n",
       "      <td>Google</td>\n",
       "      <td>IE</td>\n",
       "      <td>0</td>\n",
       "      <td>1</td>\n",
       "      <td>M</td>\n",
       "      <td>21</td>\n",
       "      <td>Mexico</td>\n",
       "    </tr>\n",
       "    <tr>\n",
       "      <th>2</th>\n",
       "      <td>848402</td>\n",
       "      <td>12/4/2015</td>\n",
       "      <td>Ads</td>\n",
       "      <td>Web</td>\n",
       "      <td>ES</td>\n",
       "      <td>Facebook</td>\n",
       "      <td>Chrome</td>\n",
       "      <td>0</td>\n",
       "      <td>0</td>\n",
       "      <td>M</td>\n",
       "      <td>34</td>\n",
       "      <td>Spain</td>\n",
       "    </tr>\n",
       "    <tr>\n",
       "      <th>3</th>\n",
       "      <td>290051</td>\n",
       "      <td>12/3/2015</td>\n",
       "      <td>Ads</td>\n",
       "      <td>Mobile</td>\n",
       "      <td>Other</td>\n",
       "      <td>Facebook</td>\n",
       "      <td>Android_App</td>\n",
       "      <td>0</td>\n",
       "      <td>1</td>\n",
       "      <td>F</td>\n",
       "      <td>22</td>\n",
       "      <td>Mexico</td>\n",
       "    </tr>\n",
       "    <tr>\n",
       "      <th>4</th>\n",
       "      <td>548435</td>\n",
       "      <td>11/30/2015</td>\n",
       "      <td>Ads</td>\n",
       "      <td>Web</td>\n",
       "      <td>ES</td>\n",
       "      <td>Google</td>\n",
       "      <td>FireFox</td>\n",
       "      <td>0</td>\n",
       "      <td>1</td>\n",
       "      <td>M</td>\n",
       "      <td>19</td>\n",
       "      <td>Mexico</td>\n",
       "    </tr>\n",
       "  </tbody>\n",
       "</table>\n",
       "</div>"
      ],
      "text/plain": [
       "   user_id        date  source  device browser_language ads_channel  \\\n",
       "0   315281   12/3/2015  Direct     Web               ES         NaN   \n",
       "1   497851   12/4/2015     Ads     Web               ES      Google   \n",
       "2   848402   12/4/2015     Ads     Web               ES    Facebook   \n",
       "3   290051   12/3/2015     Ads  Mobile            Other    Facebook   \n",
       "4   548435  11/30/2015     Ads     Web               ES      Google   \n",
       "\n",
       "       browser  conversion  test sex  age country  \n",
       "0           IE           1     0   M   32   Spain  \n",
       "1           IE           0     1   M   21  Mexico  \n",
       "2       Chrome           0     0   M   34   Spain  \n",
       "3  Android_App           0     1   F   22  Mexico  \n",
       "4      FireFox           0     1   M   19  Mexico  "
      ]
     },
     "execution_count": 81,
     "metadata": {},
     "output_type": "execute_result"
    }
   ],
   "source": [
    "# Join the two tables to get a whole picture\n",
    "df = pd.merge(df_test, df_user, how = 'inner', on = 'user_id')\n",
    "df.head()"
   ]
  },
  {
   "cell_type": "code",
   "execution_count": 82,
   "id": "banned-enzyme",
   "metadata": {},
   "outputs": [
    {
     "data": {
      "text/plain": [
       "user_id              int64\n",
       "date                object\n",
       "source              object\n",
       "device              object\n",
       "browser_language    object\n",
       "ads_channel         object\n",
       "browser             object\n",
       "conversion           int64\n",
       "test                 int64\n",
       "sex                 object\n",
       "age                  int64\n",
       "country             object\n",
       "dtype: object"
      ]
     },
     "execution_count": 82,
     "metadata": {},
     "output_type": "execute_result"
    }
   ],
   "source": [
    "df.dtypes"
   ]
  },
  {
   "cell_type": "code",
   "execution_count": 83,
   "id": "amended-rwanda",
   "metadata": {},
   "outputs": [],
   "source": [
    "target = 'conversion'"
   ]
  },
  {
   "cell_type": "code",
   "execution_count": 84,
   "id": "southern-spain",
   "metadata": {},
   "outputs": [
    {
     "name": "stdout",
     "output_type": "stream",
     "text": [
      "test group:\n",
      "               count           mean            std   min        25%       50%  \\\n",
      "user_id     215774.0  499483.813462  288529.156089   3.0  249801.75  499125.0   \n",
      "conversion  215774.0       0.043411       0.203781   0.0       0.00       0.0   \n",
      "test        215774.0       1.000000       0.000000   1.0       1.00       1.0   \n",
      "age         215774.0      27.115236       6.762929  18.0      22.00      26.0   \n",
      "\n",
      "                  75%       max  \n",
      "user_id     748968.75  999999.0  \n",
      "conversion       0.00       1.0  \n",
      "test             1.00       1.0  \n",
      "age             31.00      70.0  \n",
      "\n",
      "\n",
      "control group:\n",
      "               count           mean            std   min       25%       50%  \\\n",
      "user_id     237093.0  500364.345278  288810.049480   1.0  249846.0  500927.0   \n",
      "conversion  237093.0       0.055156       0.228284   0.0       0.0       0.0   \n",
      "test        237093.0       0.000000       0.000000   0.0       0.0       0.0   \n",
      "age         237093.0      27.144850       6.789151  18.0      22.0      26.0   \n",
      "\n",
      "                 75%        max  \n",
      "user_id     750168.0  1000000.0  \n",
      "conversion       0.0        1.0  \n",
      "test             0.0        0.0  \n",
      "age             31.0       68.0  \n"
     ]
    }
   ],
   "source": [
    "print('test group:')\n",
    "print(df[df['test']==1].describe().transpose())\n",
    "print('\\n')\n",
    "print('control group:')\n",
    "print(df[df['test']==0].describe().transpose())"
   ]
  },
  {
   "cell_type": "code",
   "execution_count": 85,
   "id": "attached-commonwealth",
   "metadata": {},
   "outputs": [
    {
     "data": {
      "text/html": [
       "<div>\n",
       "<style scoped>\n",
       "    .dataframe tbody tr th:only-of-type {\n",
       "        vertical-align: middle;\n",
       "    }\n",
       "\n",
       "    .dataframe tbody tr th {\n",
       "        vertical-align: top;\n",
       "    }\n",
       "\n",
       "    .dataframe thead th {\n",
       "        text-align: right;\n",
       "    }\n",
       "</style>\n",
       "<table border=\"1\" class=\"dataframe\">\n",
       "  <thead>\n",
       "    <tr style=\"text-align: right;\">\n",
       "      <th></th>\n",
       "      <th>country</th>\n",
       "      <th>test</th>\n",
       "      <th>mean</th>\n",
       "      <th>count</th>\n",
       "    </tr>\n",
       "  </thead>\n",
       "  <tbody>\n",
       "    <tr>\n",
       "      <th>0</th>\n",
       "      <td>Argentina</td>\n",
       "      <td>0</td>\n",
       "      <td>0.015071</td>\n",
       "      <td>9356</td>\n",
       "    </tr>\n",
       "    <tr>\n",
       "      <th>1</th>\n",
       "      <td>Argentina</td>\n",
       "      <td>1</td>\n",
       "      <td>0.013725</td>\n",
       "      <td>37377</td>\n",
       "    </tr>\n",
       "    <tr>\n",
       "      <th>2</th>\n",
       "      <td>Bolivia</td>\n",
       "      <td>0</td>\n",
       "      <td>0.049369</td>\n",
       "      <td>5550</td>\n",
       "    </tr>\n",
       "    <tr>\n",
       "      <th>3</th>\n",
       "      <td>Bolivia</td>\n",
       "      <td>1</td>\n",
       "      <td>0.047901</td>\n",
       "      <td>5574</td>\n",
       "    </tr>\n",
       "    <tr>\n",
       "      <th>4</th>\n",
       "      <td>Chile</td>\n",
       "      <td>0</td>\n",
       "      <td>0.048107</td>\n",
       "      <td>9853</td>\n",
       "    </tr>\n",
       "    <tr>\n",
       "      <th>5</th>\n",
       "      <td>Chile</td>\n",
       "      <td>1</td>\n",
       "      <td>0.051295</td>\n",
       "      <td>9884</td>\n",
       "    </tr>\n",
       "    <tr>\n",
       "      <th>6</th>\n",
       "      <td>Colombia</td>\n",
       "      <td>0</td>\n",
       "      <td>0.052089</td>\n",
       "      <td>27088</td>\n",
       "    </tr>\n",
       "    <tr>\n",
       "      <th>7</th>\n",
       "      <td>Colombia</td>\n",
       "      <td>1</td>\n",
       "      <td>0.050571</td>\n",
       "      <td>26972</td>\n",
       "    </tr>\n",
       "    <tr>\n",
       "      <th>8</th>\n",
       "      <td>Costa Rica</td>\n",
       "      <td>0</td>\n",
       "      <td>0.052256</td>\n",
       "      <td>2660</td>\n",
       "    </tr>\n",
       "    <tr>\n",
       "      <th>9</th>\n",
       "      <td>Costa Rica</td>\n",
       "      <td>1</td>\n",
       "      <td>0.054738</td>\n",
       "      <td>2649</td>\n",
       "    </tr>\n",
       "    <tr>\n",
       "      <th>10</th>\n",
       "      <td>Ecuador</td>\n",
       "      <td>0</td>\n",
       "      <td>0.049154</td>\n",
       "      <td>8036</td>\n",
       "    </tr>\n",
       "    <tr>\n",
       "      <th>11</th>\n",
       "      <td>Ecuador</td>\n",
       "      <td>1</td>\n",
       "      <td>0.048988</td>\n",
       "      <td>7859</td>\n",
       "    </tr>\n",
       "    <tr>\n",
       "      <th>12</th>\n",
       "      <td>El Salvador</td>\n",
       "      <td>0</td>\n",
       "      <td>0.053554</td>\n",
       "      <td>4108</td>\n",
       "    </tr>\n",
       "    <tr>\n",
       "      <th>13</th>\n",
       "      <td>El Salvador</td>\n",
       "      <td>1</td>\n",
       "      <td>0.047947</td>\n",
       "      <td>4067</td>\n",
       "    </tr>\n",
       "    <tr>\n",
       "      <th>14</th>\n",
       "      <td>Guatemala</td>\n",
       "      <td>0</td>\n",
       "      <td>0.050643</td>\n",
       "      <td>7622</td>\n",
       "    </tr>\n",
       "    <tr>\n",
       "      <th>15</th>\n",
       "      <td>Guatemala</td>\n",
       "      <td>1</td>\n",
       "      <td>0.048647</td>\n",
       "      <td>7503</td>\n",
       "    </tr>\n",
       "    <tr>\n",
       "      <th>16</th>\n",
       "      <td>Honduras</td>\n",
       "      <td>0</td>\n",
       "      <td>0.050906</td>\n",
       "      <td>4361</td>\n",
       "    </tr>\n",
       "    <tr>\n",
       "      <th>17</th>\n",
       "      <td>Honduras</td>\n",
       "      <td>1</td>\n",
       "      <td>0.047540</td>\n",
       "      <td>4207</td>\n",
       "    </tr>\n",
       "    <tr>\n",
       "      <th>18</th>\n",
       "      <td>Mexico</td>\n",
       "      <td>0</td>\n",
       "      <td>0.049495</td>\n",
       "      <td>64209</td>\n",
       "    </tr>\n",
       "    <tr>\n",
       "      <th>19</th>\n",
       "      <td>Mexico</td>\n",
       "      <td>1</td>\n",
       "      <td>0.051186</td>\n",
       "      <td>64275</td>\n",
       "    </tr>\n",
       "    <tr>\n",
       "      <th>20</th>\n",
       "      <td>Nicaragua</td>\n",
       "      <td>0</td>\n",
       "      <td>0.052647</td>\n",
       "      <td>3419</td>\n",
       "    </tr>\n",
       "    <tr>\n",
       "      <th>21</th>\n",
       "      <td>Nicaragua</td>\n",
       "      <td>1</td>\n",
       "      <td>0.054177</td>\n",
       "      <td>3304</td>\n",
       "    </tr>\n",
       "    <tr>\n",
       "      <th>22</th>\n",
       "      <td>Panama</td>\n",
       "      <td>0</td>\n",
       "      <td>0.046796</td>\n",
       "      <td>1966</td>\n",
       "    </tr>\n",
       "    <tr>\n",
       "      <th>23</th>\n",
       "      <td>Panama</td>\n",
       "      <td>1</td>\n",
       "      <td>0.049370</td>\n",
       "      <td>1985</td>\n",
       "    </tr>\n",
       "    <tr>\n",
       "      <th>24</th>\n",
       "      <td>Paraguay</td>\n",
       "      <td>0</td>\n",
       "      <td>0.048493</td>\n",
       "      <td>3650</td>\n",
       "    </tr>\n",
       "    <tr>\n",
       "      <th>25</th>\n",
       "      <td>Paraguay</td>\n",
       "      <td>1</td>\n",
       "      <td>0.049229</td>\n",
       "      <td>3697</td>\n",
       "    </tr>\n",
       "    <tr>\n",
       "      <th>26</th>\n",
       "      <td>Peru</td>\n",
       "      <td>0</td>\n",
       "      <td>0.049914</td>\n",
       "      <td>16869</td>\n",
       "    </tr>\n",
       "    <tr>\n",
       "      <th>27</th>\n",
       "      <td>Peru</td>\n",
       "      <td>1</td>\n",
       "      <td>0.050604</td>\n",
       "      <td>16797</td>\n",
       "    </tr>\n",
       "    <tr>\n",
       "      <th>28</th>\n",
       "      <td>Uruguay</td>\n",
       "      <td>0</td>\n",
       "      <td>0.012048</td>\n",
       "      <td>415</td>\n",
       "    </tr>\n",
       "    <tr>\n",
       "      <th>29</th>\n",
       "      <td>Uruguay</td>\n",
       "      <td>1</td>\n",
       "      <td>0.012907</td>\n",
       "      <td>3719</td>\n",
       "    </tr>\n",
       "    <tr>\n",
       "      <th>30</th>\n",
       "      <td>Venezuela</td>\n",
       "      <td>0</td>\n",
       "      <td>0.050344</td>\n",
       "      <td>16149</td>\n",
       "    </tr>\n",
       "    <tr>\n",
       "      <th>31</th>\n",
       "      <td>Venezuela</td>\n",
       "      <td>1</td>\n",
       "      <td>0.048978</td>\n",
       "      <td>15905</td>\n",
       "    </tr>\n",
       "  </tbody>\n",
       "</table>\n",
       "</div>"
      ],
      "text/plain": [
       "        country  test      mean  count\n",
       "0     Argentina     0  0.015071   9356\n",
       "1     Argentina     1  0.013725  37377\n",
       "2       Bolivia     0  0.049369   5550\n",
       "3       Bolivia     1  0.047901   5574\n",
       "4         Chile     0  0.048107   9853\n",
       "5         Chile     1  0.051295   9884\n",
       "6      Colombia     0  0.052089  27088\n",
       "7      Colombia     1  0.050571  26972\n",
       "8    Costa Rica     0  0.052256   2660\n",
       "9    Costa Rica     1  0.054738   2649\n",
       "10      Ecuador     0  0.049154   8036\n",
       "11      Ecuador     1  0.048988   7859\n",
       "12  El Salvador     0  0.053554   4108\n",
       "13  El Salvador     1  0.047947   4067\n",
       "14    Guatemala     0  0.050643   7622\n",
       "15    Guatemala     1  0.048647   7503\n",
       "16     Honduras     0  0.050906   4361\n",
       "17     Honduras     1  0.047540   4207\n",
       "18       Mexico     0  0.049495  64209\n",
       "19       Mexico     1  0.051186  64275\n",
       "20    Nicaragua     0  0.052647   3419\n",
       "21    Nicaragua     1  0.054177   3304\n",
       "22       Panama     0  0.046796   1966\n",
       "23       Panama     1  0.049370   1985\n",
       "24     Paraguay     0  0.048493   3650\n",
       "25     Paraguay     1  0.049229   3697\n",
       "26         Peru     0  0.049914  16869\n",
       "27         Peru     1  0.050604  16797\n",
       "28      Uruguay     0  0.012048    415\n",
       "29      Uruguay     1  0.012907   3719\n",
       "30    Venezuela     0  0.050344  16149\n",
       "31    Venezuela     1  0.048978  15905"
      ]
     },
     "execution_count": 85,
     "metadata": {},
     "output_type": "execute_result"
    }
   ],
   "source": [
    "col = 'country'\n",
    "summary = df[df['country'] !='Spain'].groupby([col, 'test'], as_index=False)[target].agg(['mean','count']).reset_index()\n",
    "summary"
   ]
  },
  {
   "cell_type": "markdown",
   "id": "configured-migration",
   "metadata": {},
   "source": [
    "In all these countries, Argentina and Uruguay have very unbalanced test/control groups, while all the other countries seem to have a comparable size.\n",
    "Spain is not in the test group so we exclude it from the dataset. Besides, we also exclude Argentina and Uruguay from the dataset to further check the conversion for each group on differen dimensions."
   ]
  },
  {
   "cell_type": "code",
   "execution_count": 86,
   "id": "commercial-validity",
   "metadata": {},
   "outputs": [],
   "source": [
    "df1 = df[(df['country'] !='Spain' ) & (df['country'] !='Argentina' ) & (df['country'] !='Uruguay' )]"
   ]
  },
  {
   "cell_type": "code",
   "execution_count": 87,
   "id": "neural-probability",
   "metadata": {},
   "outputs": [
    {
     "data": {
      "text/plain": [
       "<seaborn.axisgrid.FacetGrid at 0x265070bb1c0>"
      ]
     },
     "execution_count": 87,
     "metadata": {},
     "output_type": "execute_result"
    },
    {
     "data": {
      "image/png": "[encoded data removed]",
      "text/plain": [
       "<Figure size 432x216 with 2 Axes>"
      ]
     },
     "metadata": {
      "needs_background": "light"
     },
     "output_type": "display_data"
    }
   ],
   "source": [
    "s = df1.groupby(['age','test'], as_index=False)[target].mean()\n",
    "g = sns.FacetGrid(data=s, col='test', palette='mako', hue = 'test')\n",
    "g.map(plt.scatter,  'age', target)"
   ]
  },
  {
   "cell_type": "code",
   "execution_count": 138,
   "id": "august-pocket",
   "metadata": {},
   "outputs": [
    {
     "data": {
      "text/plain": [
       "40.0"
      ]
     },
     "execution_count": 138,
     "metadata": {},
     "output_type": "execute_result"
    }
   ],
   "source": [
    "df['age'].quantile(0.95)"
   ]
  },
  {
   "cell_type": "code",
   "execution_count": 89,
   "id": "acknowledged-soldier",
   "metadata": {},
   "outputs": [
    {
     "data": {
      "text/plain": [
       "<seaborn.axisgrid.FacetGrid at 0x265000ea610>"
      ]
     },
     "execution_count": 89,
     "metadata": {},
     "output_type": "execute_result"
    },
    {
     "data": {
      "image/png": "[encoded data removed]",
      "text/plain": [
       "<Figure size 432x216 with 2 Axes>"
      ]
     },
     "metadata": {
      "needs_background": "light"
     },
     "output_type": "display_data"
    }
   ],
   "source": [
    "# Outliers are observed for age, let's cap the data range.\n",
    "df['age'].clip(upper=40, inplace=True)\n",
    "\n",
    "s = df.groupby(['age','test'], as_index=False)[target].mean()\n",
    "g = sns.FacetGrid(data=s, col='test', palette='mako', hue = 'test')\n",
    "g.map(plt.scatter,  'age', target)"
   ]
  },
  {
   "cell_type": "code",
   "execution_count": 91,
   "id": "advanced-verse",
   "metadata": {},
   "outputs": [],
   "source": [
    "# Visualize the conversion rate on other dimensions.\n",
    "categoric = ['source', 'device','browser_language', 'ads_channel', 'browser', 'sex']"
   ]
  },
  {
   "cell_type": "code",
   "execution_count": 92,
   "id": "solid-celebrity",
   "metadata": {
    "scrolled": false
   },
   "outputs": [
    {
     "data": {
      "image/png": "[encoded data removed]",
      "text/plain": [
       "<Figure size 1152x288 with 2 Axes>"
      ]
     },
     "metadata": {
      "needs_background": "light"
     },
     "output_type": "display_data"
    },
    {
     "data": {
      "image/png": "[encoded data removed]",
      "text/plain": [
       "<Figure size 1152x288 with 2 Axes>"
      ]
     },
     "metadata": {
      "needs_background": "light"
     },
     "output_type": "display_data"
    },
    {
     "data": {
      "image/png": "[encoded data removed]",
      "text/plain": [
       "<Figure size 1152x288 with 2 Axes>"
      ]
     },
     "metadata": {
      "needs_background": "light"
     },
     "output_type": "display_data"
    },
    {
     "data": {
      "image/png": "[encoded data removed]",
      "text/plain": [
       "<Figure size 1152x288 with 2 Axes>"
      ]
     },
     "metadata": {
      "needs_background": "light"
     },
     "output_type": "display_data"
    },
    {
     "data": {
      "image/png": "[encoded data removed]",
      "text/plain": [
       "<Figure size 1152x288 with 2 Axes>"
      ]
     },
     "metadata": {
      "needs_background": "light"
     },
     "output_type": "display_data"
    },
    {
     "data": {
      "image/png": "[encoded data removed]",
      "text/plain": [
       "<Figure size 1152x288 with 2 Axes>"
      ]
     },
     "metadata": {
      "needs_background": "light"
     },
     "output_type": "display_data"
    }
   ],
   "source": [
    "for col in categoric:\n",
    "    summary  = df1.groupby([col, 'test']).agg({target: ['mean','count']}).reset_index()\n",
    "    summary.columns = [col, 'test', 'rate', 'count']\n",
    "    \n",
    "    \n",
    "    fig, ax = plt.subplots(ncols = 2, nrows =1, figsize = (16, 4))\n",
    "    sns.barplot(x = col, y = 'rate', hue = 'test', data =summary, ax = ax[0], color = 'skyblue')\n",
    "    xlabels = list(set(summary[col].tolist()))\n",
    "    ax[0].set_title('Conversion rate by {}'.format(col))\n",
    "    ax[0].set_xticklabels(xlabels, rotation=45)\n",
    "    \n",
    "    sns.barplot(x=col, y = 'count',  data = summary[summary['test']==0], ax= ax[1], color ='#5f3dd9', alpha=.7 ,label = 'control')\n",
    "    sns.barplot(x=col, y = 'count',  data = summary[summary['test']==1], ax= ax[1], color ='#c6fc21',  alpha=.9, label = 'test')\n",
    "    ax[1].set_title('Count by {}'.format(col)) \n",
    "    ax[1].set_xticklabels(xlabels, rotation=45)\n",
    "    ax[1].legend()\n",
    "    plt.tight_layout()\n",
    "    plt.show()"
   ]
  },
  {
   "cell_type": "markdown",
   "id": "ceramic-university",
   "metadata": {},
   "source": [
    "Before running any test. let's do some sanity checks."
   ]
  },
  {
   "cell_type": "markdown",
   "id": "maritime-budapest",
   "metadata": {},
   "source": [
    "Check if each user only appear once during the period in the same group."
   ]
  },
  {
   "cell_type": "code",
   "execution_count": 143,
   "id": "maritime-recommendation",
   "metadata": {},
   "outputs": [
    {
     "name": "stdout",
     "output_type": "stream",
     "text": [
      "0 users from control group appeared more than once during the test period.\n",
      "0 users from test group appeared more than once during the test period.\n"
     ]
    }
   ],
   "source": [
    "user0 = df[df['test']==0]['user_id'].value_counts()\n",
    "user1 = df[df['test']==1]['user_id'].value_counts()\n",
    "print('{} users from control group appeared more than once during the test period.'.format(user0.gt(1).sum()))\n",
    "print('{} users from test group appeared more than once during the test period.'.format(user1.gt(1).sum()))"
   ]
  },
  {
   "cell_type": "markdown",
   "id": "compatible-insulin",
   "metadata": {},
   "source": [
    " Check whether there is mixed assignment."
   ]
  },
  {
   "cell_type": "code",
   "execution_count": 146,
   "id": "spoken-induction",
   "metadata": {},
   "outputs": [
    {
     "name": "stdout",
     "output_type": "stream",
     "text": [
      "There is no mixed assignment.\n"
     ]
    }
   ],
   "source": [
    "user0_list = df[df[target]==0]['user_id'].unique().tolist()\n",
    "user1_list = df[df[target]==1]['user_id'].unique().tolist()\n",
    "if np.intersect1d(user0_list, user1_list):\n",
    "    print('There are {} users were assigned to both groups'.format(count(np.intersect1d(user0_list, user1_list))))\n",
    "else:\n",
    "    print('There is no mixed assignment.')"
   ]
  },
  {
   "cell_type": "markdown",
   "id": "light-edwards",
   "metadata": {},
   "source": [
    "### Compare the daily conversion rates from control group and test group."
   ]
  },
  {
   "cell_type": "code",
   "execution_count": 96,
   "id": "mechanical-machinery",
   "metadata": {},
   "outputs": [
    {
     "data": {
      "image/png": "[encoded data removed]",
      "text/plain": [
       "<Figure size 864x288 with 2 Axes>"
      ]
     },
     "metadata": {
      "needs_background": "light"
     },
     "output_type": "display_data"
    }
   ],
   "source": [
    "summary = df1.groupby(['date', 'test']).agg(['mean','count'])[target].reset_index()\n",
    "\n",
    "fig, ax = plt.subplots(nrows=1, ncols =2, figsize = (12, 4))\n",
    "ax[0].plot(summary[summary['test']==0]['date'], summary[summary['test']==0]['mean'], label = 'test==0', color = '#5f3dd9')\n",
    "ax[0].plot(summary[summary['test']==1]['date'], summary[summary['test']==1]['mean'], label = 'test==0', color = '#c6fc21')\n",
    "ax[0].set_title('Conversion rate by date')\n",
    "\n",
    "sns.barplot(x='date', y='count', hue = 'test', data = summary, ax= ax[1], color ='skyblue')\n",
    "ax[1].set_title('Count by date')\n",
    "plt.tight_layout()\n",
    "plt.show()\n",
    "# test was running from 11/30/2015 to 12/4/2015"
   ]
  },
  {
   "cell_type": "code",
   "execution_count": 97,
   "id": "nervous-steering",
   "metadata": {},
   "outputs": [
    {
     "data": {
      "text/html": [
       "<div>\n",
       "<style scoped>\n",
       "    .dataframe tbody tr th:only-of-type {\n",
       "        vertical-align: middle;\n",
       "    }\n",
       "\n",
       "    .dataframe tbody tr th {\n",
       "        vertical-align: top;\n",
       "    }\n",
       "\n",
       "    .dataframe thead th {\n",
       "        text-align: right;\n",
       "    }\n",
       "</style>\n",
       "<table border=\"1\" class=\"dataframe\">\n",
       "  <thead>\n",
       "    <tr style=\"text-align: right;\">\n",
       "      <th></th>\n",
       "      <th>date</th>\n",
       "      <th>test</th>\n",
       "      <th>control</th>\n",
       "    </tr>\n",
       "  </thead>\n",
       "  <tbody>\n",
       "    <tr>\n",
       "      <th>0</th>\n",
       "      <td>11/30/2015</td>\n",
       "      <td>0.051452</td>\n",
       "      <td>0.053032</td>\n",
       "    </tr>\n",
       "    <tr>\n",
       "      <th>1</th>\n",
       "      <td>12/1/2015</td>\n",
       "      <td>0.047685</td>\n",
       "      <td>0.048181</td>\n",
       "    </tr>\n",
       "    <tr>\n",
       "      <th>2</th>\n",
       "      <td>12/2/2015</td>\n",
       "      <td>0.051157</td>\n",
       "      <td>0.050185</td>\n",
       "    </tr>\n",
       "    <tr>\n",
       "      <th>3</th>\n",
       "      <td>12/3/2015</td>\n",
       "      <td>0.050525</td>\n",
       "      <td>0.051098</td>\n",
       "    </tr>\n",
       "    <tr>\n",
       "      <th>4</th>\n",
       "      <td>12/4/2015</td>\n",
       "      <td>0.050817</td>\n",
       "      <td>0.048999</td>\n",
       "    </tr>\n",
       "  </tbody>\n",
       "</table>\n",
       "</div>"
      ],
      "text/plain": [
       "         date      test   control\n",
       "0  11/30/2015  0.051452  0.053032\n",
       "1   12/1/2015  0.047685  0.048181\n",
       "2   12/2/2015  0.051157  0.050185\n",
       "3   12/3/2015  0.050525  0.051098\n",
       "4   12/4/2015  0.050817  0.048999"
      ]
     },
     "execution_count": 97,
     "metadata": {},
     "output_type": "execute_result"
    }
   ],
   "source": [
    "df_t = pd.pivot_table(df1[df1['test']==1], columns='date', values = target, aggfunc = 'mean').transpose().reset_index()\n",
    "df_c = pd.pivot_table(df1[df1['test']==0], columns='date', values = target, aggfunc = 'mean').transpose().reset_index()\n",
    "\n",
    "df_compare = pd.merge(df_t, df_c, how= 'inner', on = 'date', suffixes=('_t', '_c'))\n",
    "df_compare = df_compare.rename(columns = {'conversion_t':'test','conversion_c':'control' })\n",
    "df_compare"
   ]
  },
  {
   "cell_type": "markdown",
   "id": "scenic-governor",
   "metadata": {},
   "source": [
    "### Run the test"
   ]
  },
  {
   "cell_type": "markdown",
   "id": "facial-repository",
   "metadata": {},
   "source": [
    "Before running any test on the difference of control/treatment group means, first check whether the conversion rates for each \n",
    "group meet the assumption of normality by running the Shapir-Wilk test."
   ]
  },
  {
   "cell_type": "code",
   "execution_count": 148,
   "id": "vanilla-reform",
   "metadata": {},
   "outputs": [
    {
     "name": "stdout",
     "output_type": "stream",
     "text": [
      "test sample does not looks Gaussian with 0.766 as test value and 0.0413 as p value.\n",
      "control sample looks Guassian with 0.974 as test value and 0.8975 as p value\n"
     ]
    }
   ],
   "source": [
    "seed(1)\n",
    "alpha = 0.05\n",
    "\n",
    "for col in ['test','control']:\n",
    "    stat, p  = shapiro(df_compare[col])\n",
    "    if p >alpha:\n",
    "        print('{} sample looks Guassian with {} as test value and {} as p value'.format(col, round(stat,3), round(p,4)))\n",
    "    else:\n",
    "        print('{} sample does not looks Gaussian with {} as test value and {} as p value.'.format(col, round(stat,3), round(p,4)))"
   ]
  },
  {
   "cell_type": "markdown",
   "id": "italian-tower",
   "metadata": {},
   "source": [
    "Since not both samples meet the normality assumption for two sample t-test, we need to run Mann-Whitney U test or Wilcoxon rank sum test to see if both sample have equal median."
   ]
  },
  {
   "cell_type": "code",
   "execution_count": 100,
   "id": "functional-market",
   "metadata": {},
   "outputs": [
    {
     "data": {
      "text/plain": [
       "MannwhitneyuResult(statistic=14.0, pvalue=0.8345316227109287)"
      ]
     },
     "execution_count": 100,
     "metadata": {},
     "output_type": "execute_result"
    }
   ],
   "source": [
    "# perform two-sided test.\n",
    "result = stats.mannwhitneyu(x = df_compare['test'], y = df_compare['control'], alternative = 'two-sided')\n",
    "result"
   ]
  },
  {
   "cell_type": "markdown",
   "id": "iraqi-hygiene",
   "metadata": {},
   "source": [
    "Based on the test result, we cannot tell the two sample medians are statistically significant from each other, which is within my expectation since the sample sizes are really small. \n",
    "we only have five days of data, not even enough to cover a whole week!\n",
    "In order to design a meaningful test, we should always calculate the to understand the sample size needed first."
   ]
  },
  {
   "cell_type": "markdown",
   "id": "strategic-looking",
   "metadata": {},
   "source": [
    "Calculate the sample size needed for an A/B test. The following sample size calculation formular can be found at [Standford Lecture](https://web.stanford.edu/~kcobb/hrp259/lecture11.ppt)"
   ]
  },
  {
   "cell_type": "markdown",
   "id": "prompt-concert",
   "metadata": {},
   "source": [
    "<img src=\"Capture.jpg\" width=\"250\" height=\"200\">"
   ]
  },
  {
   "cell_type": "code",
   "execution_count": 150,
   "id": "applicable-abuse",
   "metadata": {},
   "outputs": [],
   "source": [
    "u1 = df1[df1['test']==1][target].mean() # test group sample mean\n",
    "u2 = df1[df1['test']==0][target].mean() # control group sample mean"
   ]
  },
  {
   "cell_type": "code",
   "execution_count": 134,
   "id": "instant-plasma",
   "metadata": {},
   "outputs": [
    {
     "name": "stdout",
     "output_type": "stream",
     "text": [
      "The sample size we need is 3230375.\n",
      "On average, each day, we can get 70044 samples.\n",
      "We need to run the test for 46 days.\n"
     ]
    }
   ],
   "source": [
    "z_alpha = stats.norm.isf(sig/2)\n",
    "z_power = stats.norm.isf(power)  \n",
    "d = u1 - u2\n",
    "p = (u1 + u2) \n",
    "n = int(2 * p * (1-p) * (z_alpha + z_power)**2 / (d**2))\n",
    "\n",
    "print('The sample size we need is {}.'.format(n))\n",
    "print('On average, each day, we can get {} samples.'.format(round(df1.shape[0]/5)))\n",
    "print('We need to run the test for {} days.'.format(round(n/(df1.shape[0]/5))))"
   ]
  },
  {
   "cell_type": "markdown",
   "id": "moral-robin",
   "metadata": {},
   "source": [
    "### Summary and recommendations\n",
    "- After we exclude the unbalanced countries' data, there is no statistically significant difference in conversion rate for test \n",
    "group and control group.\n",
    "- In order to make a solid conclusion on the test effect, we need to have large enough sample size, which requires us to keep \n",
    "the test running for 46 days based on current visitor volume we have. \n",
    "- We may start using a smaller proportion of the whole population to run the experiment if that can lower down our cost and have less impact on our users, but it will also extend the experiment period accordingly.\n",
    "- If we are going to run the experiment again in the future, we want to make sure that our control/test group are assigned with similar proportion (preferably evently so that we can have a balanced test) on all the dimensions."
   ]
  },
  {
   "cell_type": "code",
   "execution_count": 155,
   "id": "assumed-flexibility",
   "metadata": {},
   "outputs": [
    {
     "data": {
      "text/plain": [
       "'D:\\\\TakeHomeExercises\\\\Spanish Translation AB Test'"
      ]
     },
     "execution_count": 155,
     "metadata": {},
     "output_type": "execute_result"
    }
   ],
   "source": [
    "os.getcwd()"
   ]
  }
 ],
 "metadata": {
  "kernelspec": {
   "display_name": "Python (env1)",
   "language": "python",
   "name": "environment1"
  },
  "language_info": {
   "codemirror_mode": {
    "name": "ipython",
    "version": 3
   },
   "file_extension": ".py",
   "mimetype": "text/x-python",
   "name": "python",
   "nbconvert_exporter": "python",
   "pygments_lexer": "ipython3",
   "version": "3.8.8"
  }
 },
 "nbformat": 4,
 "nbformat_minor": 5
}
